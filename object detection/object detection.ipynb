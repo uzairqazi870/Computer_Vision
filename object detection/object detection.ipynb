{
 "cells": [
  {
   "cell_type": "code",
   "execution_count": 1,
   "metadata": {},
   "outputs": [],
   "source": [
    "import cv2\n",
    "import numpy as np\n",
    "import time\n",
    "import imutils"
   ]
  },
  {
   "cell_type": "code",
   "execution_count": 2,
   "metadata": {},
   "outputs": [],
   "source": [
    "def color_threshold():\n",
    "\timg = np.zeros((300,300,3), np.uint8)\n",
    "\tcv2.namedWindow(\"image\")\n",
    "\n",
    "\tdef value(x):\n",
    "\t    return x\n",
    "\n",
    "\tcv2.createTrackbar(\"R\",\"image\",0,255, value)\n",
    "\tcv2.createTrackbar(\"G\",\"image\",0,255, value)\n",
    "\tcv2.createTrackbar(\"B\",\"image\",0,255, value)\n",
    "\n",
    "\tcolor_store = []\n",
    "\tcount=0\n",
    "\twhile (1):\n",
    "\t    cv2.imshow(\"image\", img)\n",
    "\t        \n",
    "\t    r = cv2.getTrackbarPos(\"R\",\"image\")\n",
    "\t    g = cv2.getTrackbarPos(\"G\",\"image\")\n",
    "\t    b = cv2.getTrackbarPos(\"B\",\"image\")\n",
    "\t    \n",
    "\t    img[:] = [b,g,r]\n",
    "\t    \n",
    "\t    k = cv2.waitKey(1) & 0xff\n",
    "\t    if k == ord('s'):\n",
    "\t        if count==0:\n",
    "\t            print(\"lower_threshold:\", (b,g,r))\n",
    "\t            color_store.append([b,g,r])\n",
    "\t            count+=1\n",
    "\t        elif count==1:\n",
    "\t            print(\"upper_threshold:\", (b,g,r))\n",
    "\t            color_store.append([b,g,r])\n",
    "\t            cv2.destroyAllWindows()\n",
    "\t            return color_store\n",
    "\t        \n",
    "\t    if k == ord('q'):\n",
    "\t        print(b,g,r)\n",
    "\t        color_store.append((b,g,r))\n",
    "\t        cv2.destroyAllWindows()\n",
    "\t        break"
   ]
  },
  {
   "cell_type": "code",
   "execution_count": 3,
   "metadata": {},
   "outputs": [
    {
     "name": "stdout",
     "output_type": "stream",
     "text": [
      "lower_threshold: (100, 69, 0)\n",
      "upper_threshold: (255, 128, 50)\n"
     ]
    }
   ],
   "source": [
    "video = cv2.VideoCapture(0)\n",
    "\n",
    "color_store = color_threshold()\n",
    "lowerBlue = np.array(color_store[0], np.uint8)\n",
    "upperBlue = np.array(color_store[1], np.uint8)\n",
    "\n",
    "while True:\n",
    "    ret, frame = video.read()\n",
    "    frame = imutils.resize(frame, width=800)\n",
    "    blue = cv2.inRange(frame, lowerBlue, upperBlue)\n",
    "    blue = cv2.GaussianBlur(blue, (3,3), 0)\n",
    "    \n",
    "    (_,cnts,_) = cv2.findContours(blue.copy(), cv2.RETR_EXTERNAL,cv2.CHAIN_APPROX_SIMPLE)\n",
    "    \n",
    "    if len(cnts)>0:\n",
    "        cnts = sorted(cnts, key=cv2.contourArea, reverse=True)[0]\n",
    "        rects = np.int32(cv2.boxPoints(cv2.minAreaRect(cnts)))\n",
    "        cv2.drawContours(frame, [rects], -1, (0,255,0), 2)\n",
    "                    \n",
    "    cv2.imshow(\"detection\", frame)\n",
    "    #cv2.imshow(\"binary\", blue)\n",
    "    \n",
    "    if cv2.waitKey(1) & 0xff == ord('s'):\n",
    "        cv2.imwrite(\"{:5.2f}_pic.jpg\".format(time.time()), frame)\n",
    "    \n",
    "    if cv2.waitKey(1) & 0xff == ord('q'):\n",
    "        break\n",
    "                         \n",
    "video.release()\n",
    "cv2.destroyAllWindows()    "
   ]
  },
  {
   "cell_type": "code",
   "execution_count": null,
   "metadata": {},
   "outputs": [],
   "source": []
  }
 ],
 "metadata": {
  "kernelspec": {
   "display_name": "Python 3",
   "language": "python",
   "name": "python3"
  },
  "language_info": {
   "codemirror_mode": {
    "name": "ipython",
    "version": 3
   },
   "file_extension": ".py",
   "mimetype": "text/x-python",
   "name": "python",
   "nbconvert_exporter": "python",
   "pygments_lexer": "ipython3",
   "version": "3.7.9"
  }
 },
 "nbformat": 4,
 "nbformat_minor": 4
}
