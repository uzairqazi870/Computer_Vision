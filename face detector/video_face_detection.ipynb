{
 "cells": [
  {
   "cell_type": "code",
   "execution_count": 1,
   "metadata": {},
   "outputs": [],
   "source": [
    "import cv2\n",
    "import imutils"
   ]
  },
  {
   "cell_type": "code",
   "execution_count": 2,
   "metadata": {},
   "outputs": [],
   "source": [
    "class Face_Detect:\n",
    "    def __init__(self):\n",
    "        self.face_detect = cv2.CascadeClassifier('cascade/haarcascade_frontalface_default.xml')\n",
    "        self.eyes_detect = cv2.CascadeClassifier('cascade/haarcascade_eye.xml')\n",
    "    \n",
    "    def detect(self, frame, scaleFactor=1.1, minNeighbors=5, minSize=(30,30)):\n",
    "        gray = cv2.cvtColor(frame, cv2.COLOR_BGR2GRAY)\n",
    "        gray = cv2.equalizeHist(gray)\n",
    "        # create a copy of the original frame\n",
    "        clone = frame.copy()\n",
    "        \n",
    "        faces = self.face_detect.detectMultiScale(gray, scaleFactor=1.1, minNeighbors=5,\n",
    "                                                 minSize=(30,30), flags=cv2.CASCADE_SCALE_IMAGE)\n",
    "        \n",
    "        # loop over the faces\n",
    "        for face in faces:\n",
    "            (x,y,w,h) = face\n",
    "            face_center = (x + w//2, y + h//2)\n",
    "            cv2.ellipse(clone, face_center, (w//2,h//2), 0, 0, 360, (255,0,0), 2, cv2.LINE_AA)\n",
    "\n",
    "            # crop the face from the frame\n",
    "            ROI = gray[y:y+h, x:x+w]\n",
    "            # find the eyes in the face\n",
    "            eyes = self.eyes_detect.detectMultiScale(ROI, scaleFactor=1.1, minNeighbors=15,\n",
    "                                                 minSize=(10,10), flags=cv2.CASCADE_SCALE_IMAGE)\n",
    "            # loop over each eye\n",
    "            for eye in eyes:\n",
    "                (x1,y1,w1,h1) = eye\n",
    "                eye_center = (x+x1+w1//2, y+y1+h1//2)\n",
    "                cv2.ellipse(clone, eye_center, (w1//2, h1//2), 0, 0, 360, (0,255,0), 2, cv2.LINE_4)\n",
    "        \n",
    "        \n",
    "        return clone"
   ]
  },
  {
   "cell_type": "code",
   "execution_count": 3,
   "metadata": {},
   "outputs": [],
   "source": [
    "def face_detector():\n",
    "    input_type = input(\"camera (0) or video (2): \")\n",
    "\n",
    "    if input_type == \"0\":\n",
    "        video = int(input_type)\n",
    "    else:\n",
    "        video = input(\"Enter video path: \")\n",
    "\n",
    "    camera = cv2.VideoCapture(video)\n",
    "    \n",
    "    if not camera.isOpened:\n",
    "        print(\"Failed to read the input\")\n",
    "        exit(0)\n",
    "\n",
    "    while True:\n",
    "        grab, frame = camera.read()\n",
    "\n",
    "        if not grab:\n",
    "            break\n",
    "\n",
    "        #frame = cv2.resize(frame, (480,480), interpolation=cv2.INTER_AREA)    \n",
    "        frame = imutils.resize(frame, width=400)\n",
    "\n",
    "        fd = Face_Detect()\n",
    "        result = fd.detect(frame)\n",
    "\n",
    "        cv2.imshow(\"Face\", result)\n",
    "\n",
    "        if cv2.waitKey(1) & 0xFF == ord('q'):\n",
    "            break\n",
    "\n",
    "    camera.release()\n",
    "    cv2.destroyAllWindows()"
   ]
  },
  {
   "cell_type": "code",
   "execution_count": 4,
   "metadata": {},
   "outputs": [
    {
     "name": "stdout",
     "output_type": "stream",
     "text": [
      "camera (0) or video (2): 0\n"
     ]
    }
   ],
   "source": [
    "face_detector()"
   ]
  },
  {
   "cell_type": "code",
   "execution_count": null,
   "metadata": {},
   "outputs": [],
   "source": []
  }
 ],
 "metadata": {
  "kernelspec": {
   "display_name": "Python 3",
   "language": "python",
   "name": "python3"
  },
  "language_info": {
   "codemirror_mode": {
    "name": "ipython",
    "version": 3
   },
   "file_extension": ".py",
   "mimetype": "text/x-python",
   "name": "python",
   "nbconvert_exporter": "python",
   "pygments_lexer": "ipython3",
   "version": "3.7.9"
  }
 },
 "nbformat": 4,
 "nbformat_minor": 4
}
